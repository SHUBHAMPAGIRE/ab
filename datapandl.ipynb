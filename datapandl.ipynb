{
  "nbformat": 4,
  "nbformat_minor": 0,
  "metadata": {
    "colab": {
      "provenance": []
    },
    "kernelspec": {
      "name": "python3",
      "display_name": "Python 3"
    },
    "language_info": {
      "name": "python"
    }
  },
  "cells": [
    {
      "cell_type": "code",
      "execution_count": 10,
      "metadata": {
        "id": "V13isH6Ubgw7"
      },
      "outputs": [],
      "source": [
        "import pandas as pd\n",
        "import numpy as np\n",
        "import seaborn as sns\n",
        "import matplotlib.pyplot as plt"
      ]
    },
    {
      "cell_type": "code",
      "source": [
        "df = pd.read_csv(\"Data.csv\")\n",
        "df.head()"
      ],
      "metadata": {
        "colab": {
          "base_uri": "https://localhost:8080/",
          "height": 206
        },
        "id": "22hENTIjbmkE",
        "outputId": "21048dfb-5fac-4418-d923-25b284a14cff"
      },
      "execution_count": 2,
      "outputs": [
        {
          "output_type": "execute_result",
          "data": {
            "text/plain": [
              "   Unnamed: 0  Entry_date Entry_time   Type  Entry_price  Exit_price  \\\n",
              "0           0  2011-01-04   09:30:00  Short     11822.00   11611.200   \n",
              "1           1  2011-01-05   09:40:00  Short     11474.00   11382.000   \n",
              "2           2  2011-01-06   13:50:00  Short     11259.75   11304.789   \n",
              "3           3  2011-01-06   14:50:00  Short     11253.00   11251.300   \n",
              "4           4  2011-01-07   09:50:00  Short     11150.00   11194.600   \n",
              "\n",
              "  Exit_time    Profit Reason  \n",
              "0  15:20:00  206.0712    EOD  \n",
              "1  15:20:00   87.4104    EOD  \n",
              "2  14:15:00  -49.5429     SL  \n",
              "3  15:20:00   -2.8012    EOD  \n",
              "4  11:45:00  -49.0600     SL  "
            ],
            "text/html": [
              "\n",
              "  <div id=\"df-694c037e-dadd-42c5-923a-38b7a823b48b\">\n",
              "    <div class=\"colab-df-container\">\n",
              "      <div>\n",
              "<style scoped>\n",
              "    .dataframe tbody tr th:only-of-type {\n",
              "        vertical-align: middle;\n",
              "    }\n",
              "\n",
              "    .dataframe tbody tr th {\n",
              "        vertical-align: top;\n",
              "    }\n",
              "\n",
              "    .dataframe thead th {\n",
              "        text-align: right;\n",
              "    }\n",
              "</style>\n",
              "<table border=\"1\" class=\"dataframe\">\n",
              "  <thead>\n",
              "    <tr style=\"text-align: right;\">\n",
              "      <th></th>\n",
              "      <th>Unnamed: 0</th>\n",
              "      <th>Entry_date</th>\n",
              "      <th>Entry_time</th>\n",
              "      <th>Type</th>\n",
              "      <th>Entry_price</th>\n",
              "      <th>Exit_price</th>\n",
              "      <th>Exit_time</th>\n",
              "      <th>Profit</th>\n",
              "      <th>Reason</th>\n",
              "    </tr>\n",
              "  </thead>\n",
              "  <tbody>\n",
              "    <tr>\n",
              "      <th>0</th>\n",
              "      <td>0</td>\n",
              "      <td>2011-01-04</td>\n",
              "      <td>09:30:00</td>\n",
              "      <td>Short</td>\n",
              "      <td>11822.00</td>\n",
              "      <td>11611.200</td>\n",
              "      <td>15:20:00</td>\n",
              "      <td>206.0712</td>\n",
              "      <td>EOD</td>\n",
              "    </tr>\n",
              "    <tr>\n",
              "      <th>1</th>\n",
              "      <td>1</td>\n",
              "      <td>2011-01-05</td>\n",
              "      <td>09:40:00</td>\n",
              "      <td>Short</td>\n",
              "      <td>11474.00</td>\n",
              "      <td>11382.000</td>\n",
              "      <td>15:20:00</td>\n",
              "      <td>87.4104</td>\n",
              "      <td>EOD</td>\n",
              "    </tr>\n",
              "    <tr>\n",
              "      <th>2</th>\n",
              "      <td>2</td>\n",
              "      <td>2011-01-06</td>\n",
              "      <td>13:50:00</td>\n",
              "      <td>Short</td>\n",
              "      <td>11259.75</td>\n",
              "      <td>11304.789</td>\n",
              "      <td>14:15:00</td>\n",
              "      <td>-49.5429</td>\n",
              "      <td>SL</td>\n",
              "    </tr>\n",
              "    <tr>\n",
              "      <th>3</th>\n",
              "      <td>3</td>\n",
              "      <td>2011-01-06</td>\n",
              "      <td>14:50:00</td>\n",
              "      <td>Short</td>\n",
              "      <td>11253.00</td>\n",
              "      <td>11251.300</td>\n",
              "      <td>15:20:00</td>\n",
              "      <td>-2.8012</td>\n",
              "      <td>EOD</td>\n",
              "    </tr>\n",
              "    <tr>\n",
              "      <th>4</th>\n",
              "      <td>4</td>\n",
              "      <td>2011-01-07</td>\n",
              "      <td>09:50:00</td>\n",
              "      <td>Short</td>\n",
              "      <td>11150.00</td>\n",
              "      <td>11194.600</td>\n",
              "      <td>11:45:00</td>\n",
              "      <td>-49.0600</td>\n",
              "      <td>SL</td>\n",
              "    </tr>\n",
              "  </tbody>\n",
              "</table>\n",
              "</div>\n",
              "      <button class=\"colab-df-convert\" onclick=\"convertToInteractive('df-694c037e-dadd-42c5-923a-38b7a823b48b')\"\n",
              "              title=\"Convert this dataframe to an interactive table.\"\n",
              "              style=\"display:none;\">\n",
              "        \n",
              "  <svg xmlns=\"http://www.w3.org/2000/svg\" height=\"24px\"viewBox=\"0 0 24 24\"\n",
              "       width=\"24px\">\n",
              "    <path d=\"M0 0h24v24H0V0z\" fill=\"none\"/>\n",
              "    <path d=\"M18.56 5.44l.94 2.06.94-2.06 2.06-.94-2.06-.94-.94-2.06-.94 2.06-2.06.94zm-11 1L8.5 8.5l.94-2.06 2.06-.94-2.06-.94L8.5 2.5l-.94 2.06-2.06.94zm10 10l.94 2.06.94-2.06 2.06-.94-2.06-.94-.94-2.06-.94 2.06-2.06.94z\"/><path d=\"M17.41 7.96l-1.37-1.37c-.4-.4-.92-.59-1.43-.59-.52 0-1.04.2-1.43.59L10.3 9.45l-7.72 7.72c-.78.78-.78 2.05 0 2.83L4 21.41c.39.39.9.59 1.41.59.51 0 1.02-.2 1.41-.59l7.78-7.78 2.81-2.81c.8-.78.8-2.07 0-2.86zM5.41 20L4 18.59l7.72-7.72 1.47 1.35L5.41 20z\"/>\n",
              "  </svg>\n",
              "      </button>\n",
              "      \n",
              "  <style>\n",
              "    .colab-df-container {\n",
              "      display:flex;\n",
              "      flex-wrap:wrap;\n",
              "      gap: 12px;\n",
              "    }\n",
              "\n",
              "    .colab-df-convert {\n",
              "      background-color: #E8F0FE;\n",
              "      border: none;\n",
              "      border-radius: 50%;\n",
              "      cursor: pointer;\n",
              "      display: none;\n",
              "      fill: #1967D2;\n",
              "      height: 32px;\n",
              "      padding: 0 0 0 0;\n",
              "      width: 32px;\n",
              "    }\n",
              "\n",
              "    .colab-df-convert:hover {\n",
              "      background-color: #E2EBFA;\n",
              "      box-shadow: 0px 1px 2px rgba(60, 64, 67, 0.3), 0px 1px 3px 1px rgba(60, 64, 67, 0.15);\n",
              "      fill: #174EA6;\n",
              "    }\n",
              "\n",
              "    [theme=dark] .colab-df-convert {\n",
              "      background-color: #3B4455;\n",
              "      fill: #D2E3FC;\n",
              "    }\n",
              "\n",
              "    [theme=dark] .colab-df-convert:hover {\n",
              "      background-color: #434B5C;\n",
              "      box-shadow: 0px 1px 3px 1px rgba(0, 0, 0, 0.15);\n",
              "      filter: drop-shadow(0px 1px 2px rgba(0, 0, 0, 0.3));\n",
              "      fill: #FFFFFF;\n",
              "    }\n",
              "  </style>\n",
              "\n",
              "      <script>\n",
              "        const buttonEl =\n",
              "          document.querySelector('#df-694c037e-dadd-42c5-923a-38b7a823b48b button.colab-df-convert');\n",
              "        buttonEl.style.display =\n",
              "          google.colab.kernel.accessAllowed ? 'block' : 'none';\n",
              "\n",
              "        async function convertToInteractive(key) {\n",
              "          const element = document.querySelector('#df-694c037e-dadd-42c5-923a-38b7a823b48b');\n",
              "          const dataTable =\n",
              "            await google.colab.kernel.invokeFunction('convertToInteractive',\n",
              "                                                     [key], {});\n",
              "          if (!dataTable) return;\n",
              "\n",
              "          const docLinkHtml = 'Like what you see? Visit the ' +\n",
              "            '<a target=\"_blank\" href=https://colab.research.google.com/notebooks/data_table.ipynb>data table notebook</a>'\n",
              "            + ' to learn more about interactive tables.';\n",
              "          element.innerHTML = '';\n",
              "          dataTable['output_type'] = 'display_data';\n",
              "          await google.colab.output.renderOutput(dataTable, element);\n",
              "          const docLink = document.createElement('div');\n",
              "          docLink.innerHTML = docLinkHtml;\n",
              "          element.appendChild(docLink);\n",
              "        }\n",
              "      </script>\n",
              "    </div>\n",
              "  </div>\n",
              "  "
            ]
          },
          "metadata": {},
          "execution_count": 2
        }
      ]
    },
    {
      "cell_type": "code",
      "source": [
        "# Calculate profit and loss\n",
        "df['profit_loss'] = df.apply(lambda x: x['Exit_price'] - x['Entry_price'] if x['Type'] == 'long' else x['Entry_price'] - x['Exit_price'], axis=1)"
      ],
      "metadata": {
        "id": "y8pRQ265bmmy"
      },
      "execution_count": 4,
      "outputs": []
    },
    {
      "cell_type": "code",
      "source": [
        "# Calculate average profit per trade\n",
        "avg_profit = df['profit_loss'].mean()"
      ],
      "metadata": {
        "id": "DSp3Tfy-bmqO"
      },
      "execution_count": 5,
      "outputs": []
    },
    {
      "cell_type": "code",
      "source": [
        "df['stop_loss'] = df.apply(lambda x: x['Entry_price'] - (x['Entry_price'] * 0.05) if x['Type'] == 'long' else x['Entry_price'] + (x['Entry_price'] * 0.05), axis=1)\n"
      ],
      "metadata": {
        "id": "voFwE_B4bms6"
      },
      "execution_count": 7,
      "outputs": []
    },
    {
      "cell_type": "code",
      "source": [
        "# Evaluate performance\n",
        "total_profit = df['profit_loss'].sum()\n",
        "total_trades = len(df)\n",
        "avg_profit = df['profit_loss'].mean()\n",
        "\n",
        "print('Total Profit:', total_profit)\n",
        "print('Total Trades:', total_trades)\n",
        "print('Average Profit per Trade:', avg_profit)"
      ],
      "metadata": {
        "colab": {
          "base_uri": "https://localhost:8080/"
        },
        "id": "KWWOWVLobmv2",
        "outputId": "8da40c66-3e41-4786-fb18-e859fd30f76c"
      },
      "execution_count": 8,
      "outputs": [
        {
          "output_type": "stream",
          "name": "stdout",
          "text": [
            "Total Profit: -7459.230799999931\n",
            "Total Trades: 3349\n",
            "Average Profit per Trade: -2.227300925649427\n"
          ]
        }
      ]
    },
    {
      "cell_type": "code",
      "source": [
        "# Calculate correlation\n",
        "corr = df.corr()['profit_loss']\n"
      ],
      "metadata": {
        "id": "RJica9VmdvkL"
      },
      "execution_count": 9,
      "outputs": []
    },
    {
      "cell_type": "code",
      "source": [
        "# Visualize correlation\n",
        "plt.figure(figsize=(12, 6))\n",
        "sns.heatmap(df.corr(), annot=True, cmap='coolwarm')\n",
        "plt.title('Correlation Heatmap')\n",
        "plt.show()"
      ],
      "metadata": {
        "colab": {
          "base_uri": "https://localhost:8080/",
          "height": 391
        },
        "id": "UprU7RFGdvsd",
        "outputId": "6eb43dc5-fb66-4129-a697-71fe8ceefd6d"
      },
      "execution_count": 11,
      "outputs": [
        {
          "output_type": "display_data",
          "data": {
            "text/plain": [
              "<Figure size 864x432 with 2 Axes>"
            ],
            "image/png": "[encoded data removed]"
          },
          "metadata": {
            "needs_background": "light"
          }
        }
      ]
    },
    {
      "cell_type": "code",
      "source": [
        "print(corr)"
      ],
      "metadata": {
        "colab": {
          "base_uri": "https://localhost:8080/"
        },
        "id": "lr8FTKhmdvwT",
        "outputId": "296d1a3d-3ca8-4b6d-e0d5-a9e2643598d8"
      },
      "execution_count": 12,
      "outputs": [
        {
          "output_type": "stream",
          "name": "stdout",
          "text": [
            "Unnamed: 0    -0.003105\n",
            "Entry_price   -0.001746\n",
            "Exit_price    -0.018609\n",
            "Profit        -0.001666\n",
            "profit_loss    1.000000\n",
            "stop_loss     -0.001746\n",
            "Name: profit_loss, dtype: float64\n"
          ]
        }
      ]
    },
    {
      "cell_type": "code",
      "source": [
        "negative_columns = ['Profit']\n"
      ],
      "metadata": {
        "id": "nH2Mw9aZdvzu"
      },
      "execution_count": 14,
      "outputs": []
    },
    {
      "cell_type": "code",
      "source": [
        "df = df.loc[(df[negative_columns] >= 0).all(axis=1)]"
      ],
      "metadata": {
        "id": "KmgOtGfXdv2Y"
      },
      "execution_count": 15,
      "outputs": []
    },
    {
      "cell_type": "code",
      "source": [
        "df.to_csv('Data.csv', index=False)"
      ],
      "metadata": {
        "id": "9Mj-YwBjfOwL"
      },
      "execution_count": 17,
      "outputs": []
    },
    {
      "cell_type": "code",
      "source": [
        "df"
      ],
      "metadata": {
        "colab": {
          "base_uri": "https://localhost:8080/",
          "height": 423
        },
        "id": "hxCF2GpAgRwN",
        "outputId": "2562fcd6-6a48-4beb-9cdc-9ddc9cb055ed"
      },
      "execution_count": 20,
      "outputs": [
        {
          "output_type": "execute_result",
          "data": {
            "text/plain": [
              "      Unnamed: 0  Entry_date Entry_time   Type  Entry_price  Exit_price  \\\n",
              "0              0  2011-01-04   09:30:00  Short     11822.00    11611.20   \n",
              "1              1  2011-01-05   09:40:00  Short     11474.00    11382.00   \n",
              "6              6  2011-01-07   15:05:00  Short     11134.00    11085.90   \n",
              "8              8  2011-01-10   11:45:00  Short     10928.50    10695.20   \n",
              "9              9  2011-01-12   14:30:00   Long     11075.00    11139.00   \n",
              "...          ...         ...        ...    ...          ...         ...   \n",
              "3340        3340  2023-02-27   14:05:00   Long     40495.45    40545.00   \n",
              "3341        3341  2023-03-01   09:40:00   Long     40719.95    40910.15   \n",
              "3343        3343  2023-03-03   09:20:00   Long     40900.00    41415.45   \n",
              "3347        3347  2023-03-10   09:20:00  Short     40752.65    40615.00   \n",
              "3348        3348  2023-03-13   11:35:00  Short     40333.35    39676.75   \n",
              "\n",
              "     Exit_time     Profit Reason  profit_loss   stop_loss  \n",
              "0     15:20:00  206.07120    EOD       210.80  12413.1000  \n",
              "1     15:20:00   87.41040    EOD        92.00  12047.7000  \n",
              "6     15:20:00   43.64640    EOD        48.10  11690.7000  \n",
              "8     15:20:00  228.92860    EOD       233.30  11474.9250  \n",
              "9     15:20:00   59.57000    EOD       -64.00  11628.7500  \n",
              "...        ...        ...    ...          ...         ...  \n",
              "3340  15:20:00   33.35182    EOD       -49.55  42520.2225  \n",
              "3341  15:20:00  173.91202    EOD      -190.20  42755.9475  \n",
              "3343  15:20:00  499.09000    EOD      -515.45  42945.0000  \n",
              "3347  15:20:00  121.34894    EOD       137.65  42790.2825  \n",
              "3348  15:20:00  640.46666    EOD       656.60  42350.0175  \n",
              "\n",
              "[1259 rows x 11 columns]"
            ],
            "text/html": [
              "\n",
              "  <div id=\"df-7e261e60-66f1-42b5-b24a-6339c2476715\">\n",
              "    <div class=\"colab-df-container\">\n",
              "      <div>\n",
              "<style scoped>\n",
              "    .dataframe tbody tr th:only-of-type {\n",
              "        vertical-align: middle;\n",
              "    }\n",
              "\n",
              "    .dataframe tbody tr th {\n",
              "        vertical-align: top;\n",
              "    }\n",
              "\n",
              "    .dataframe thead th {\n",
              "        text-align: right;\n",
              "    }\n",
              "</style>\n",
              "<table border=\"1\" class=\"dataframe\">\n",
              "  <thead>\n",
              "    <tr style=\"text-align: right;\">\n",
              "      <th></th>\n",
              "      <th>Unnamed: 0</th>\n",
              "      <th>Entry_date</th>\n",
              "      <th>Entry_time</th>\n",
              "      <th>Type</th>\n",
              "      <th>Entry_price</th>\n",
              "      <th>Exit_price</th>\n",
              "      <th>Exit_time</th>\n",
              "      <th>Profit</th>\n",
              "      <th>Reason</th>\n",
              "      <th>profit_loss</th>\n",
              "      <th>stop_loss</th>\n",
              "    </tr>\n",
              "  </thead>\n",
              "  <tbody>\n",
              "    <tr>\n",
              "      <th>0</th>\n",
              "      <td>0</td>\n",
              "      <td>2011-01-04</td>\n",
              "      <td>09:30:00</td>\n",
              "      <td>Short</td>\n",
              "      <td>11822.00</td>\n",
              "      <td>11611.20</td>\n",
              "      <td>15:20:00</td>\n",
              "      <td>206.07120</td>\n",
              "      <td>EOD</td>\n",
              "      <td>210.80</td>\n",
              "      <td>12413.1000</td>\n",
              "    </tr>\n",
              "    <tr>\n",
              "      <th>1</th>\n",
              "      <td>1</td>\n",
              "      <td>2011-01-05</td>\n",
              "      <td>09:40:00</td>\n",
              "      <td>Short</td>\n",
              "      <td>11474.00</td>\n",
              "      <td>11382.00</td>\n",
              "      <td>15:20:00</td>\n",
              "      <td>87.41040</td>\n",
              "      <td>EOD</td>\n",
              "      <td>92.00</td>\n",
              "      <td>12047.7000</td>\n",
              "    </tr>\n",
              "    <tr>\n",
              "      <th>6</th>\n",
              "      <td>6</td>\n",
              "      <td>2011-01-07</td>\n",
              "      <td>15:05:00</td>\n",
              "      <td>Short</td>\n",
              "      <td>11134.00</td>\n",
              "      <td>11085.90</td>\n",
              "      <td>15:20:00</td>\n",
              "      <td>43.64640</td>\n",
              "      <td>EOD</td>\n",
              "      <td>48.10</td>\n",
              "      <td>11690.7000</td>\n",
              "    </tr>\n",
              "    <tr>\n",
              "      <th>8</th>\n",
              "      <td>8</td>\n",
              "      <td>2011-01-10</td>\n",
              "      <td>11:45:00</td>\n",
              "      <td>Short</td>\n",
              "      <td>10928.50</td>\n",
              "      <td>10695.20</td>\n",
              "      <td>15:20:00</td>\n",
              "      <td>228.92860</td>\n",
              "      <td>EOD</td>\n",
              "      <td>233.30</td>\n",
              "      <td>11474.9250</td>\n",
              "    </tr>\n",
              "    <tr>\n",
              "      <th>9</th>\n",
              "      <td>9</td>\n",
              "      <td>2011-01-12</td>\n",
              "      <td>14:30:00</td>\n",
              "      <td>Long</td>\n",
              "      <td>11075.00</td>\n",
              "      <td>11139.00</td>\n",
              "      <td>15:20:00</td>\n",
              "      <td>59.57000</td>\n",
              "      <td>EOD</td>\n",
              "      <td>-64.00</td>\n",
              "      <td>11628.7500</td>\n",
              "    </tr>\n",
              "    <tr>\n",
              "      <th>...</th>\n",
              "      <td>...</td>\n",
              "      <td>...</td>\n",
              "      <td>...</td>\n",
              "      <td>...</td>\n",
              "      <td>...</td>\n",
              "      <td>...</td>\n",
              "      <td>...</td>\n",
              "      <td>...</td>\n",
              "      <td>...</td>\n",
              "      <td>...</td>\n",
              "      <td>...</td>\n",
              "    </tr>\n",
              "    <tr>\n",
              "      <th>3340</th>\n",
              "      <td>3340</td>\n",
              "      <td>2023-02-27</td>\n",
              "      <td>14:05:00</td>\n",
              "      <td>Long</td>\n",
              "      <td>40495.45</td>\n",
              "      <td>40545.00</td>\n",
              "      <td>15:20:00</td>\n",
              "      <td>33.35182</td>\n",
              "      <td>EOD</td>\n",
              "      <td>-49.55</td>\n",
              "      <td>42520.2225</td>\n",
              "    </tr>\n",
              "    <tr>\n",
              "      <th>3341</th>\n",
              "      <td>3341</td>\n",
              "      <td>2023-03-01</td>\n",
              "      <td>09:40:00</td>\n",
              "      <td>Long</td>\n",
              "      <td>40719.95</td>\n",
              "      <td>40910.15</td>\n",
              "      <td>15:20:00</td>\n",
              "      <td>173.91202</td>\n",
              "      <td>EOD</td>\n",
              "      <td>-190.20</td>\n",
              "      <td>42755.9475</td>\n",
              "    </tr>\n",
              "    <tr>\n",
              "      <th>3343</th>\n",
              "      <td>3343</td>\n",
              "      <td>2023-03-03</td>\n",
              "      <td>09:20:00</td>\n",
              "      <td>Long</td>\n",
              "      <td>40900.00</td>\n",
              "      <td>41415.45</td>\n",
              "      <td>15:20:00</td>\n",
              "      <td>499.09000</td>\n",
              "      <td>EOD</td>\n",
              "      <td>-515.45</td>\n",
              "      <td>42945.0000</td>\n",
              "    </tr>\n",
              "    <tr>\n",
              "      <th>3347</th>\n",
              "      <td>3347</td>\n",
              "      <td>2023-03-10</td>\n",
              "      <td>09:20:00</td>\n",
              "      <td>Short</td>\n",
              "      <td>40752.65</td>\n",
              "      <td>40615.00</td>\n",
              "      <td>15:20:00</td>\n",
              "      <td>121.34894</td>\n",
              "      <td>EOD</td>\n",
              "      <td>137.65</td>\n",
              "      <td>42790.2825</td>\n",
              "    </tr>\n",
              "    <tr>\n",
              "      <th>3348</th>\n",
              "      <td>3348</td>\n",
              "      <td>2023-03-13</td>\n",
              "      <td>11:35:00</td>\n",
              "      <td>Short</td>\n",
              "      <td>40333.35</td>\n",
              "      <td>39676.75</td>\n",
              "      <td>15:20:00</td>\n",
              "      <td>640.46666</td>\n",
              "      <td>EOD</td>\n",
              "      <td>656.60</td>\n",
              "      <td>42350.0175</td>\n",
              "    </tr>\n",
              "  </tbody>\n",
              "</table>\n",
              "<p>1259 rows × 11 columns</p>\n",
              "</div>\n",
              "      <button class=\"colab-df-convert\" onclick=\"convertToInteractive('df-7e261e60-66f1-42b5-b24a-6339c2476715')\"\n",
              "              title=\"Convert this dataframe to an interactive table.\"\n",
              "              style=\"display:none;\">\n",
              "        \n",
              "  <svg xmlns=\"http://www.w3.org/2000/svg\" height=\"24px\"viewBox=\"0 0 24 24\"\n",
              "       width=\"24px\">\n",
              "    <path d=\"M0 0h24v24H0V0z\" fill=\"none\"/>\n",
              "    <path d=\"M18.56 5.44l.94 2.06.94-2.06 2.06-.94-2.06-.94-.94-2.06-.94 2.06-2.06.94zm-11 1L8.5 8.5l.94-2.06 2.06-.94-2.06-.94L8.5 2.5l-.94 2.06-2.06.94zm10 10l.94 2.06.94-2.06 2.06-.94-2.06-.94-.94-2.06-.94 2.06-2.06.94z\"/><path d=\"M17.41 7.96l-1.37-1.37c-.4-.4-.92-.59-1.43-.59-.52 0-1.04.2-1.43.59L10.3 9.45l-7.72 7.72c-.78.78-.78 2.05 0 2.83L4 21.41c.39.39.9.59 1.41.59.51 0 1.02-.2 1.41-.59l7.78-7.78 2.81-2.81c.8-.78.8-2.07 0-2.86zM5.41 20L4 18.59l7.72-7.72 1.47 1.35L5.41 20z\"/>\n",
              "  </svg>\n",
              "      </button>\n",
              "      \n",
              "  <style>\n",
              "    .colab-df-container {\n",
              "      display:flex;\n",
              "      flex-wrap:wrap;\n",
              "      gap: 12px;\n",
              "    }\n",
              "\n",
              "    .colab-df-convert {\n",
              "      background-color: #E8F0FE;\n",
              "      border: none;\n",
              "      border-radius: 50%;\n",
              "      cursor: pointer;\n",
              "      display: none;\n",
              "      fill: #1967D2;\n",
              "      height: 32px;\n",
              "      padding: 0 0 0 0;\n",
              "      width: 32px;\n",
              "    }\n",
              "\n",
              "    .colab-df-convert:hover {\n",
              "      background-color: #E2EBFA;\n",
              "      box-shadow: 0px 1px 2px rgba(60, 64, 67, 0.3), 0px 1px 3px 1px rgba(60, 64, 67, 0.15);\n",
              "      fill: #174EA6;\n",
              "    }\n",
              "\n",
              "    [theme=dark] .colab-df-convert {\n",
              "      background-color: #3B4455;\n",
              "      fill: #D2E3FC;\n",
              "    }\n",
              "\n",
              "    [theme=dark] .colab-df-convert:hover {\n",
              "      background-color: #434B5C;\n",
              "      box-shadow: 0px 1px 3px 1px rgba(0, 0, 0, 0.15);\n",
              "      filter: drop-shadow(0px 1px 2px rgba(0, 0, 0, 0.3));\n",
              "      fill: #FFFFFF;\n",
              "    }\n",
              "  </style>\n",
              "\n",
              "      <script>\n",
              "        const buttonEl =\n",
              "          document.querySelector('#df-7e261e60-66f1-42b5-b24a-6339c2476715 button.colab-df-convert');\n",
              "        buttonEl.style.display =\n",
              "          google.colab.kernel.accessAllowed ? 'block' : 'none';\n",
              "\n",
              "        async function convertToInteractive(key) {\n",
              "          const element = document.querySelector('#df-7e261e60-66f1-42b5-b24a-6339c2476715');\n",
              "          const dataTable =\n",
              "            await google.colab.kernel.invokeFunction('convertToInteractive',\n",
              "                                                     [key], {});\n",
              "          if (!dataTable) return;\n",
              "\n",
              "          const docLinkHtml = 'Like what you see? Visit the ' +\n",
              "            '<a target=\"_blank\" href=https://colab.research.google.com/notebooks/data_table.ipynb>data table notebook</a>'\n",
              "            + ' to learn more about interactive tables.';\n",
              "          element.innerHTML = '';\n",
              "          dataTable['output_type'] = 'display_data';\n",
              "          await google.colab.output.renderOutput(dataTable, element);\n",
              "          const docLink = document.createElement('div');\n",
              "          docLink.innerHTML = docLinkHtml;\n",
              "          element.appendChild(docLink);\n",
              "        }\n",
              "      </script>\n",
              "    </div>\n",
              "  </div>\n",
              "  "
            ]
          },
          "metadata": {},
          "execution_count": 20
        }
      ]
    },
    {
      "cell_type": "code",
      "source": [
        "df.Profit.mean()"
      ],
      "metadata": {
        "id": "x2RsOP4RfOz2"
      },
      "execution_count": null,
      "outputs": []
    },
    {
      "cell_type": "code",
      "source": [
        "\n",
        "column_name = 'Profit'\n",
        "column_mean = df[column_name].mean()"
      ],
      "metadata": {
        "id": "fVV1-GTefPAs"
      },
      "execution_count": 18,
      "outputs": []
    },
    {
      "cell_type": "code",
      "source": [
        "print(f\"The mean of {column_name} is: {column_mean}\")\n"
      ],
      "metadata": {
        "colab": {
          "base_uri": "https://localhost:8080/"
        },
        "id": "aZd8LE4pfPEc",
        "outputId": "d30468b1-44f2-4ffb-9d8b-9d58704d1508"
      },
      "execution_count": 19,
      "outputs": [
        {
          "output_type": "stream",
          "name": "stdout",
          "text": [
            "The mean of Profit is: 158.7150771882446\n"
          ]
        }
      ]
    }
  ]
}